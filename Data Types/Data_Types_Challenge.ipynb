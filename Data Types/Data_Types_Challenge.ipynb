{
  "nbformat": 4,
  "nbformat_minor": 0,
  "metadata": {
    "colab": {
      "provenance": [],
      "authorship_tag": "ABX9TyMUf95lCWUfuRBj/Qnt0euL",
      "include_colab_link": true
    },
    "kernelspec": {
      "name": "python3",
      "display_name": "Python 3"
    },
    "language_info": {
      "name": "python"
    }
  },
  "cells": [
    {
      "cell_type": "markdown",
      "metadata": {
        "id": "view-in-github",
        "colab_type": "text"
      },
      "source": [
        "<a href=\"https://colab.research.google.com/github/ShafaqMandha/MediBot/blob/main/Data%20Types/Data_Types_Challenge.ipynb\" target=\"_parent\"><img src=\"https://colab.research.google.com/assets/colab-badge.svg\" alt=\"Open In Colab\"/></a>"
      ]
    },
    {
      "cell_type": "markdown",
      "source": [
        "# **Challenge Add Data Types**"
      ],
      "metadata": {
        "id": "T0A7p1tQT-gr"
      }
    },
    {
      "cell_type": "markdown",
      "source": [
        "## **Challenge:**\n",
        "\n",
        "Write a Python program that takes a user's name and age as input, and then prints a message that includes their name, age, and the data types of the variables."
      ],
      "metadata": {
        "id": "gHCSwJR2UHG7"
      }
    },
    {
      "cell_type": "markdown",
      "source": [
        "# Input"
      ],
      "metadata": {
        "id": "TrQVDBzpU96-"
      }
    },
    {
      "cell_type": "code",
      "execution_count": null,
      "metadata": {
        "colab": {
          "base_uri": "https://localhost:8080/"
        },
        "id": "1z6S2XjGT9zi",
        "outputId": "d0276a16-e14c-4868-a6f1-0eb9af1c64c5"
      },
      "outputs": [
        {
          "name": "stdout",
          "output_type": "stream",
          "text": [
            "Enter your name: Shafaq\n"
          ]
        }
      ],
      "source": [
        "name = input(\"Enter your name: \")"
      ]
    },
    {
      "cell_type": "code",
      "source": [
        "age = int(input(\"Enter your age: \"))"
      ],
      "metadata": {
        "colab": {
          "base_uri": "https://localhost:8080/"
        },
        "id": "WJ_69r0QU0Tp",
        "outputId": "54add0b6-be85-4808-a997-a4f332473301"
      },
      "execution_count": null,
      "outputs": [
        {
          "name": "stdout",
          "output_type": "stream",
          "text": [
            "Enter your age: 22\n"
          ]
        }
      ]
    },
    {
      "cell_type": "markdown",
      "source": [
        "# Output"
      ],
      "metadata": {
        "id": "ojXxmKZ5U9ui"
      }
    },
    {
      "cell_type": "code",
      "source": [
        "print(f\"The name is {name} and age is {age}\")"
      ],
      "metadata": {
        "colab": {
          "base_uri": "https://localhost:8080/"
        },
        "id": "ylh87c1jU0W2",
        "outputId": "97522cd5-89bd-48ca-906b-a028a8f6b082"
      },
      "execution_count": null,
      "outputs": [
        {
          "output_type": "stream",
          "name": "stdout",
          "text": [
            "The name is Shafaq and age is 22\n"
          ]
        }
      ]
    },
    {
      "cell_type": "code",
      "source": [
        "print(f\"The type of the variable is name: {type(name)}, age : {type(age)}\")"
      ],
      "metadata": {
        "colab": {
          "base_uri": "https://localhost:8080/"
        },
        "id": "z8nScAbBU0aU",
        "outputId": "2a00d7dd-cc18-4427-fc7e-8c84c6cac455"
      },
      "execution_count": null,
      "outputs": [
        {
          "output_type": "stream",
          "name": "stdout",
          "text": [
            "The type of the variable is name: <class 'str'>, age : <class 'int'>\n"
          ]
        }
      ]
    }
  ]
}